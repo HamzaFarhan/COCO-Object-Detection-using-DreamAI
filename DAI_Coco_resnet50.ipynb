{
 "cells": [
  {
   "cell_type": "code",
   "execution_count": 1,
   "metadata": {},
   "outputs": [],
   "source": [
    "import sys\n",
    "sys.path.insert(0, '/home/farhan/hamza/Coco/cocoapi-master/PythonAPI')\n",
    "from pycocotools.coco import COCO\n",
    "sys.path.insert(0, '/home/farhan/hamza/dreamai/')\n",
    "import cv_model\n",
    "import utils\n",
    "import obj_utils\n",
    "from dai_imports import*\n",
    "\n",
    "%load_ext autoreload\n",
    "%autoreload 2"
   ]
  },
  {
   "cell_type": "code",
   "execution_count": null,
   "metadata": {},
   "outputs": [],
   "source": []
  },
  {
   "cell_type": "code",
   "execution_count": null,
   "metadata": {},
   "outputs": [],
   "source": []
  },
  {
   "cell_type": "code",
   "execution_count": 2,
   "metadata": {},
   "outputs": [],
   "source": [
    "dataDir='/home/farhan/hamza/Coco/'\n",
    "train_name='train2017'\n",
    "annFile='{}/annotations/instances_{}.json'.format(dataDir,train_name)\n",
    "train = os.path.join(dataDir,train_name)"
   ]
  },
  {
   "cell_type": "code",
   "execution_count": 3,
   "metadata": {},
   "outputs": [],
   "source": [
    "# def draw_im(im, ann, cat_dict):\n",
    "#     ax = obj_utils.img_grid(im, figsize=(16,16))\n",
    "#     for a in ann:\n",
    "# #         b = bb_hw(b)\n",
    "#         obj_utils.draw_rect(ax, a['bbox'])\n",
    "#         obj_utils.draw_text(ax, a['bbox'][:2], cat_dict[a['category_id']]['name'], sz=16)\n",
    "\n",
    "# def get_box_name(ann,cat_dict):\n",
    "#     box = []\n",
    "#     name = []\n",
    "#     for a in ann:\n",
    "# #         b = bb_hw(b)\n",
    "#         box.append(obj_utils.hw_bb(a['bbox']))\n",
    "#         name.append(cat_dict[a['category_id']]['name'])\n",
    "#     return (box,name)\n",
    "\n",
    "# def get_box_name_str(ann,cat_dict):\n",
    "    \n",
    "#     b,n = get_box_name(ann=ann,cat_dict=cat_dict)\n",
    "#     n = ' '.join(n)\n",
    "#     b2 = []\n",
    "#     for x in b:\n",
    "#         b2+=x\n",
    "#     b2 = [str(x) for x in b2]\n",
    "#     b2 = ' '.join(b2)\n",
    "#     return b2,n"
   ]
  },
  {
   "cell_type": "code",
   "execution_count": 4,
   "metadata": {},
   "outputs": [],
   "source": [
    "# # initialize COCO api for instance annotations\n",
    "# coco=COCO(annFile)\n",
    "\n",
    "# cats = coco.loadCats(coco.getCatIds())\n",
    "# cat_dict = {c['id']:c for c in cats}\n",
    "# imgs = coco.loadImgs(coco.getImgIds())\n",
    "# anns = [coco.loadAnns(coco.getAnnIds(img['id'])) for img in imgs]\n",
    "# good_idx = [i for i,a in enumerate(anns) if len(a) > 0]\n",
    "# imgs = np.array(imgs)[good_idx]\n",
    "# anns = np.array(anns)[good_idx]\n",
    "# imgs_paths = [os.path.join(train,img['file_name']) for img in imgs]\n",
    "# imgs_ids = [img['file_name'] for img in imgs]\n",
    "# bboxs_names = np.array([get_box_name_str(ann,cat_dict) for ann in anns])\n",
    "# bboxs = bboxs_names[:,0]\n",
    "# names = bboxs_names[:,1]\n",
    "# b_lens = np.array([len(b.split())//4 for b in bboxs])\n",
    "# n_lens = np.array([len(n.split()) for n in names])\n",
    "# mask = b_lens == n_lens\n",
    "# bboxs = np.array(bboxs)[mask]\n",
    "# names = np.array(names)[mask]\n",
    "# imgs_ids = np.array(imgs_ids)[mask]\n",
    "# df = pd.DataFrame({'img': imgs_ids,'bbox': bboxs, 'name': names},columns=['img','bbox','name'])\n",
    "# df.to_csv('/home/farhan/hamza/Coco/dai_coco.csv',index=False)\n",
    "# df.head()"
   ]
  },
  {
   "cell_type": "code",
   "execution_count": 5,
   "metadata": {
    "scrolled": true
   },
   "outputs": [],
   "source": [
    "# DP = data_processing.DataProcessor(dataDir,train_csv='dai_coco.csv',tr_name=train_name,setup_data=True)\n",
    "\n",
    "# data_processing.save_obj(DP,'DP_object_coco.pkl')"
   ]
  },
  {
   "cell_type": "code",
   "execution_count": 6,
   "metadata": {},
   "outputs": [],
   "source": [
    "DP = data_processing.load_obj('DP_object_coco.pkl')"
   ]
  },
  {
   "cell_type": "code",
   "execution_count": 7,
   "metadata": {},
   "outputs": [],
   "source": [
    "data_dict = DP.data_dict"
   ]
  },
  {
   "cell_type": "code",
   "execution_count": 8,
   "metadata": {},
   "outputs": [
    {
     "data": {
      "text/html": [
       "<div>\n",
       "<style scoped>\n",
       "    .dataframe tbody tr th:only-of-type {\n",
       "        vertical-align: middle;\n",
       "    }\n",
       "\n",
       "    .dataframe tbody tr th {\n",
       "        vertical-align: top;\n",
       "    }\n",
       "\n",
       "    .dataframe thead th {\n",
       "        text-align: right;\n",
       "    }\n",
       "</style>\n",
       "<table border=\"1\" class=\"dataframe\">\n",
       "  <thead>\n",
       "    <tr style=\"text-align: right;\">\n",
       "      <th></th>\n",
       "      <th>img</th>\n",
       "      <th>bbox</th>\n",
       "      <th>name</th>\n",
       "      <th>one_hot</th>\n",
       "    </tr>\n",
       "  </thead>\n",
       "  <tbody>\n",
       "    <tr>\n",
       "      <th>0</th>\n",
       "      <td>000000438560.jpg</td>\n",
       "      <td>[tensor(0.), tensor(0.), tensor(0.), tensor(0....</td>\n",
       "      <td>[tensor(0), tensor(0), tensor(0), tensor(0), t...</td>\n",
       "      <td>[tensor(0.), tensor(0.), tensor(0.), tensor(0....</td>\n",
       "    </tr>\n",
       "    <tr>\n",
       "      <th>1</th>\n",
       "      <td>000000079357.jpg</td>\n",
       "      <td>[tensor(0.), tensor(0.), tensor(0.), tensor(0....</td>\n",
       "      <td>[tensor(0), tensor(0), tensor(0), tensor(0), t...</td>\n",
       "      <td>[tensor(0.), tensor(0.), tensor(0.), tensor(0....</td>\n",
       "    </tr>\n",
       "    <tr>\n",
       "      <th>2</th>\n",
       "      <td>000000509388.jpg</td>\n",
       "      <td>[tensor(0.), tensor(0.), tensor(0.), tensor(0....</td>\n",
       "      <td>[tensor(0), tensor(0), tensor(0), tensor(0), t...</td>\n",
       "      <td>[tensor(0.), tensor(0.), tensor(0.), tensor(0....</td>\n",
       "    </tr>\n",
       "    <tr>\n",
       "      <th>3</th>\n",
       "      <td>000000077481.jpg</td>\n",
       "      <td>[tensor(0.), tensor(0.), tensor(0.), tensor(0....</td>\n",
       "      <td>[tensor(0), tensor(0), tensor(0), tensor(0), t...</td>\n",
       "      <td>[tensor(0.), tensor(0.), tensor(0.), tensor(0....</td>\n",
       "    </tr>\n",
       "    <tr>\n",
       "      <th>4</th>\n",
       "      <td>000000284648.jpg</td>\n",
       "      <td>[tensor(0.), tensor(0.), tensor(0.), tensor(0....</td>\n",
       "      <td>[tensor(0), tensor(0), tensor(0), tensor(0), t...</td>\n",
       "      <td>[tensor(0.), tensor(0.), tensor(0.), tensor(0....</td>\n",
       "    </tr>\n",
       "  </tbody>\n",
       "</table>\n",
       "</div>"
      ],
      "text/plain": [
       "                img                                               bbox  \\\n",
       "0  000000438560.jpg  [tensor(0.), tensor(0.), tensor(0.), tensor(0....   \n",
       "1  000000079357.jpg  [tensor(0.), tensor(0.), tensor(0.), tensor(0....   \n",
       "2  000000509388.jpg  [tensor(0.), tensor(0.), tensor(0.), tensor(0....   \n",
       "3  000000077481.jpg  [tensor(0.), tensor(0.), tensor(0.), tensor(0....   \n",
       "4  000000284648.jpg  [tensor(0.), tensor(0.), tensor(0.), tensor(0....   \n",
       "\n",
       "                                                name  \\\n",
       "0  [tensor(0), tensor(0), tensor(0), tensor(0), t...   \n",
       "1  [tensor(0), tensor(0), tensor(0), tensor(0), t...   \n",
       "2  [tensor(0), tensor(0), tensor(0), tensor(0), t...   \n",
       "3  [tensor(0), tensor(0), tensor(0), tensor(0), t...   \n",
       "4  [tensor(0), tensor(0), tensor(0), tensor(0), t...   \n",
       "\n",
       "                                             one_hot  \n",
       "0  [tensor(0.), tensor(0.), tensor(0.), tensor(0....  \n",
       "1  [tensor(0.), tensor(0.), tensor(0.), tensor(0....  \n",
       "2  [tensor(0.), tensor(0.), tensor(0.), tensor(0....  \n",
       "3  [tensor(0.), tensor(0.), tensor(0.), tensor(0....  \n",
       "4  [tensor(0.), tensor(0.), tensor(0.), tensor(0....  "
      ]
     },
     "execution_count": 8,
     "metadata": {},
     "output_type": "execute_result"
    }
   ],
   "source": [
    "data_dict['data_dfs']['val'].head()"
   ]
  },
  {
   "cell_type": "code",
   "execution_count": 9,
   "metadata": {},
   "outputs": [
    {
     "data": {
      "text/html": [
       "<div>\n",
       "<style scoped>\n",
       "    .dataframe tbody tr th:only-of-type {\n",
       "        vertical-align: middle;\n",
       "    }\n",
       "\n",
       "    .dataframe tbody tr th {\n",
       "        vertical-align: top;\n",
       "    }\n",
       "\n",
       "    .dataframe thead th {\n",
       "        text-align: right;\n",
       "    }\n",
       "</style>\n",
       "<table border=\"1\" class=\"dataframe\">\n",
       "  <thead>\n",
       "    <tr style=\"text-align: right;\">\n",
       "      <th></th>\n",
       "      <th>img</th>\n",
       "      <th>bbox</th>\n",
       "      <th>name</th>\n",
       "      <th>one_hot</th>\n",
       "    </tr>\n",
       "  </thead>\n",
       "  <tbody>\n",
       "    <tr>\n",
       "      <th>0</th>\n",
       "      <td>000000396866.jpg</td>\n",
       "      <td>[tensor(0.), tensor(0.), tensor(0.), tensor(0....</td>\n",
       "      <td>[tensor(0), tensor(0), tensor(0), tensor(0), t...</td>\n",
       "      <td>[tensor(0.), tensor(0.), tensor(0.), tensor(0....</td>\n",
       "    </tr>\n",
       "    <tr>\n",
       "      <th>1</th>\n",
       "      <td>000000568330.jpg</td>\n",
       "      <td>[tensor(0.), tensor(0.), tensor(0.), tensor(0....</td>\n",
       "      <td>[tensor(0), tensor(0), tensor(0), tensor(0), t...</td>\n",
       "      <td>[tensor(0.), tensor(0.), tensor(0.), tensor(0....</td>\n",
       "    </tr>\n",
       "    <tr>\n",
       "      <th>2</th>\n",
       "      <td>000000049283.jpg</td>\n",
       "      <td>[tensor(0.), tensor(0.), tensor(0.), tensor(0....</td>\n",
       "      <td>[tensor(0), tensor(0), tensor(0), tensor(0), t...</td>\n",
       "      <td>[tensor(0.), tensor(0.), tensor(0.), tensor(0....</td>\n",
       "    </tr>\n",
       "    <tr>\n",
       "      <th>3</th>\n",
       "      <td>000000509490.jpg</td>\n",
       "      <td>[tensor(0.), tensor(0.), tensor(0.), tensor(0....</td>\n",
       "      <td>[tensor(0), tensor(0), tensor(0), tensor(0), t...</td>\n",
       "      <td>[tensor(0.), tensor(0.), tensor(0.), tensor(0....</td>\n",
       "    </tr>\n",
       "    <tr>\n",
       "      <th>4</th>\n",
       "      <td>000000287006.jpg</td>\n",
       "      <td>[tensor(0.), tensor(0.), tensor(0.), tensor(0....</td>\n",
       "      <td>[tensor(0), tensor(0), tensor(0), tensor(0), t...</td>\n",
       "      <td>[tensor(0.), tensor(0.), tensor(0.), tensor(0....</td>\n",
       "    </tr>\n",
       "  </tbody>\n",
       "</table>\n",
       "</div>"
      ],
      "text/plain": [
       "                img                                               bbox  \\\n",
       "0  000000396866.jpg  [tensor(0.), tensor(0.), tensor(0.), tensor(0....   \n",
       "1  000000568330.jpg  [tensor(0.), tensor(0.), tensor(0.), tensor(0....   \n",
       "2  000000049283.jpg  [tensor(0.), tensor(0.), tensor(0.), tensor(0....   \n",
       "3  000000509490.jpg  [tensor(0.), tensor(0.), tensor(0.), tensor(0....   \n",
       "4  000000287006.jpg  [tensor(0.), tensor(0.), tensor(0.), tensor(0....   \n",
       "\n",
       "                                                name  \\\n",
       "0  [tensor(0), tensor(0), tensor(0), tensor(0), t...   \n",
       "1  [tensor(0), tensor(0), tensor(0), tensor(0), t...   \n",
       "2  [tensor(0), tensor(0), tensor(0), tensor(0), t...   \n",
       "3  [tensor(0), tensor(0), tensor(0), tensor(0), t...   \n",
       "4  [tensor(0), tensor(0), tensor(0), tensor(0), t...   \n",
       "\n",
       "                                             one_hot  \n",
       "0  [tensor(0.), tensor(0.), tensor(0.), tensor(0....  \n",
       "1  [tensor(0.), tensor(0.), tensor(0.), tensor(0....  \n",
       "2  [tensor(0.), tensor(0.), tensor(0.), tensor(0....  \n",
       "3  [tensor(0.), tensor(0.), tensor(0.), tensor(0....  \n",
       "4  [tensor(0.), tensor(0.), tensor(0.), tensor(0....  "
      ]
     },
     "execution_count": 9,
     "metadata": {},
     "output_type": "execute_result"
    }
   ],
   "source": [
    "data_dict['data_dfs'][train_name].head()"
   ]
  },
  {
   "cell_type": "code",
   "execution_count": 10,
   "metadata": {},
   "outputs": [],
   "source": [
    "image_size = (256,256)\n",
    "bs = 32"
   ]
  },
  {
   "cell_type": "code",
   "execution_count": 11,
   "metadata": {},
   "outputs": [],
   "source": [
    "sets,loaders,sizes = DP.get_data(data_dict, image_size, bs = bs)"
   ]
  },
  {
   "cell_type": "code",
   "execution_count": 12,
   "metadata": {},
   "outputs": [
    {
     "data": {
      "text/plain": [
       "{'train2017': 67936, 'val': 10190, 'test': 1799}"
      ]
     },
     "execution_count": 12,
     "metadata": {},
     "output_type": "execute_result"
    }
   ],
   "source": [
    "sizes"
   ]
  },
  {
   "cell_type": "code",
   "execution_count": 13,
   "metadata": {},
   "outputs": [
    {
     "data": {
      "text/plain": [
       "707"
      ]
     },
     "execution_count": 13,
     "metadata": {},
     "output_type": "execute_result"
    }
   ],
   "source": [
    "print_every = sizes[train_name]//3//bs\n",
    "print_every"
   ]
  },
  {
   "cell_type": "code",
   "execution_count": 14,
   "metadata": {},
   "outputs": [
    {
     "name": "stdout",
     "output_type": "stream",
     "text": [
      "Set_transfer_model: self.Model set to resnet50\n",
      "Grids: [8, 4, 2, 1]\n",
      "resnet50: setting head: CustomSSD_MultiHead\n",
      "Transfer: best accuracy = 0.000\n",
      "Setting optim SGD\n"
     ]
    }
   ],
   "source": [
    "device = torch.device(\"cuda:0\" if torch.cuda.is_available() else \"cpu\")\n",
    "net = cv_model.CustomSSDObjectDetection(model_name='resnet50',one_cycle_factor=None,\n",
    "                         optimizer_name='sgd',device=device,\n",
    "                        best_model_file = 'best_custom_ssd_coco_resnet50_sgd.pth',\n",
    "                         class_names=data_dict['class_names'],num_classes=data_dict['num_classes'],\n",
    "                              image_size = image_size,dropout_p = 0.5,add_extra=False)"
   ]
  },
  {
   "cell_type": "raw",
   "metadata": {
    "collapsed": true
   },
   "source": []
  },
  {
   "cell_type": "code",
   "execution_count": 15,
   "metadata": {},
   "outputs": [],
   "source": [
    "net.load_state_dict(torch.load('best_custom_ssd_coco_resnet50_sgd.pth'))"
   ]
  },
  {
   "cell_type": "code",
   "execution_count": 16,
   "metadata": {
    "scrolled": false
   },
   "outputs": [],
   "source": [
    "net.unfreeze()"
   ]
  },
  {
   "cell_type": "code",
   "execution_count": null,
   "metadata": {},
   "outputs": [],
   "source": []
  },
  {
   "cell_type": "code",
   "execution_count": null,
   "metadata": {
    "scrolled": false
   },
   "outputs": [],
   "source": [
    "lr = net.find_lr(loaders[train_name],plot=True)\n",
    "net.optimizer.param_groups[0]['lr'] = lr\n",
    "net.optimizer.param_groups[0]['lr']"
   ]
  },
  {
   "cell_type": "code",
   "execution_count": null,
   "metadata": {},
   "outputs": [],
   "source": [
    "# net.optimizer.param_groups[0]['lr'] = 0.0001\n",
    "# net.optimizer.param_groups[0]['lr']"
   ]
  },
  {
   "cell_type": "code",
   "execution_count": null,
   "metadata": {},
   "outputs": [],
   "source": []
  },
  {
   "cell_type": "code",
   "execution_count": null,
   "metadata": {
    "scrolled": false
   },
   "outputs": [],
   "source": [
    "net.fit(loaders[train_name],loaders['val'],epochs=70,print_every=print_every)"
   ]
  },
  {
   "cell_type": "code",
   "execution_count": null,
   "metadata": {},
   "outputs": [],
   "source": []
  },
  {
   "cell_type": "code",
   "execution_count": 17,
   "metadata": {},
   "outputs": [],
   "source": [
    "data_processing.save_obj(net,'best_obj_updated.pkl')"
   ]
  },
  {
   "cell_type": "code",
   "execution_count": null,
   "metadata": {},
   "outputs": [],
   "source": []
  },
  {
   "cell_type": "code",
   "execution_count": null,
   "metadata": {
    "scrolled": false
   },
   "outputs": [],
   "source": [
    "net.show_nms(loader=loaders['test'],num=30,dp=DP,\n",
    "             score_thresh=0.25,nms_overlap=0.4)"
   ]
  },
  {
   "cell_type": "code",
   "execution_count": null,
   "metadata": {},
   "outputs": [],
   "source": []
  },
  {
   "cell_type": "code",
   "execution_count": null,
   "metadata": {},
   "outputs": [],
   "source": [
    "DP2 = data_processing.load_obj('DP_object_pascal.pkl')\n",
    "\n",
    "data_dict2 = DP2.data_dict\n",
    "\n",
    "image_size2 = (224,224)\n",
    "bs2 = 45\n",
    "\n",
    "sets2,loaders2,sizes2 = DP2.get_data(data_dict2, image_size2, bs = bs2)"
   ]
  },
  {
   "cell_type": "code",
   "execution_count": null,
   "metadata": {
    "scrolled": false
   },
   "outputs": [],
   "source": [
    "# net.load_state_dict(torch.load('best_ssd.pth'))\n",
    "# imgs = data_processing.load_obj('test_batch.pkl')\n",
    "net.show_nms(loader=loaders2['test'],num=30,dp=DP2,\n",
    "             score_thresh=0.26,nms_overlap=0.4)"
   ]
  },
  {
   "cell_type": "code",
   "execution_count": null,
   "metadata": {
    "scrolled": false
   },
   "outputs": [],
   "source": [
    "# net.load_state_dict(torch.load('best_ssd.pth'))\n",
    "# imgs = data_processing.load_obj('test_batch.pkl')\n",
    "net.show_nms(loader=loaders2['val'],num=30,dp=DP2,\n",
    "             score_thresh=0.26,nms_overlap=0.3)"
   ]
  },
  {
   "cell_type": "code",
   "execution_count": null,
   "metadata": {
    "scrolled": false
   },
   "outputs": [],
   "source": [
    "# net.load_state_dict(torch.load('best_ssd.pth'))\n",
    "# imgs = data_processing.load_obj('test_batch.pkl')\n",
    "net.show_nms(loader=loaders2['JPEGImages'],num=30,dp=DP2,\n",
    "             score_thresh=0.26,nms_overlap=0.25)"
   ]
  },
  {
   "cell_type": "code",
   "execution_count": null,
   "metadata": {},
   "outputs": [],
   "source": []
  },
  {
   "cell_type": "code",
   "execution_count": null,
   "metadata": {},
   "outputs": [],
   "source": []
  }
 ],
 "metadata": {
  "kernelspec": {
   "display_name": "Python 3",
   "language": "python",
   "name": "python3"
  },
  "language_info": {
   "codemirror_mode": {
    "name": "ipython",
    "version": 3
   },
   "file_extension": ".py",
   "mimetype": "text/x-python",
   "name": "python",
   "nbconvert_exporter": "python",
   "pygments_lexer": "ipython3",
   "version": "3.7.1"
  }
 },
 "nbformat": 4,
 "nbformat_minor": 2
}
